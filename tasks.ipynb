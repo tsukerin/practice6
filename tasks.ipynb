{
 "cells": [
  {
   "cell_type": "code",
   "execution_count": 2,
   "metadata": {},
   "outputs": [
    {
     "data": {
      "text/plain": [
       "3"
      ]
     },
     "execution_count": 2,
     "metadata": {},
     "output_type": "execute_result"
    }
   ],
   "source": [
    "def F(n):\n",
    "    if n < 2:\n",
    "        return 1\n",
    "    else:\n",
    "        return F(n - 1) + F(n - 2)\n",
    "    \n",
    "F(3)"
   ]
  },
  {
   "cell_type": "code",
   "execution_count": 11,
   "metadata": {},
   "outputs": [
    {
     "data": {
      "text/plain": [
       "3"
      ]
     },
     "execution_count": 11,
     "metadata": {},
     "output_type": "execute_result"
    }
   ],
   "source": [
    "n = 3\n",
    "\n",
    "F = [0] * (n + 1)\n",
    "F[0] = 1\n",
    "F[1] = 1\n",
    "for i in range(2, n + 1):\n",
    "    F[i] = F[i - 2] + F[i - 1]\n",
    "\n",
    "F[-1]"
   ]
  },
  {
   "cell_type": "code",
   "execution_count": 10,
   "metadata": {},
   "outputs": [
    {
     "data": {
      "text/plain": [
       "4"
      ]
     },
     "execution_count": 10,
     "metadata": {},
     "output_type": "execute_result"
    }
   ],
   "source": [
    "F = [0] * (n + 1)\n",
    "F[0] = 1\n",
    "F[1] = F[0]\n",
    "F[2] = F[1] + F[0]\n",
    "for i in range(3, n + 1):\n",
    "    F[i] = F[i - 3] + F[i - 2] + F[i - 1]\n",
    "\n",
    "F[-1]"
   ]
  },
  {
   "cell_type": "code",
   "execution_count": 30,
   "metadata": {},
   "outputs": [
    {
     "data": {
      "text/plain": [
       "2"
      ]
     },
     "execution_count": 30,
     "metadata": {},
     "output_type": "execute_result"
    }
   ],
   "source": [
    "Map = [1, 0, 3, 4]\n",
    "\n",
    "F = [0] * (n + 1)\n",
    "F[0] = 1\n",
    "for i in range(1, n + 1):\n",
    "    if Map[i] == 0:\n",
    "        F[i] = 0\n",
    "    else:\n",
    "        F[i] = sum(F[max(0, i - 3): i])\n",
    "\n",
    "F[-1]"
   ]
  },
  {
   "cell_type": "code",
   "execution_count": 37,
   "metadata": {},
   "outputs": [
    {
     "data": {
      "text/plain": [
       "4"
      ]
     },
     "execution_count": 37,
     "metadata": {},
     "output_type": "execute_result"
    }
   ],
   "source": [
    "Price = [0, 1, 2, 3]\n",
    "\n",
    "C = [0] * (n + 1)\n",
    "C[1] = Price[1]\n",
    "for i in range(2, n + 1):\n",
    "    C[i] = min(C[i - 1], C[i - 2]) + Price[i]\n",
    "\n",
    "C[-1]"
   ]
  },
  {
   "cell_type": "code",
   "execution_count": 46,
   "metadata": {},
   "outputs": [
    {
     "data": {
      "text/plain": [
       "1"
      ]
     },
     "execution_count": 46,
     "metadata": {},
     "output_type": "execute_result"
    }
   ],
   "source": [
    "Prev = [0] * (n + 1)\n",
    "\n",
    "C = [0] * (n + 1)\n",
    "C[1] = Price[1]\n",
    "Prev[1] = 0\n",
    "for i in range(2, n + 1):\n",
    "    if C[i - 1] < C[i - 2]:\n",
    "        C[i] = C[i - 1] + Price[i]\n",
    "        Prev[i] = i - 1\n",
    "    else:\n",
    "        C[i] = C[i - 2] + Price[i]\n",
    "        Prev[i] = i - 2\n",
    "\n",
    "Prev[-1]"
   ]
  },
  {
   "cell_type": "code",
   "execution_count": 47,
   "metadata": {},
   "outputs": [
    {
     "data": {
      "text/plain": [
       "[0, 1, 3]"
      ]
     },
     "execution_count": 47,
     "metadata": {},
     "output_type": "execute_result"
    }
   ],
   "source": [
    "Path = []\n",
    "i = n\n",
    "while i > 0:\n",
    "    Path.append(i)\n",
    "    i = Prev[i]\n",
    "Path.append(0)\n",
    "Path = Path[::-1]\n",
    "\n",
    "Path"
   ]
  },
  {
   "cell_type": "code",
   "execution_count": 48,
   "metadata": {},
   "outputs": [
    {
     "data": {
      "text/plain": [
       "[0, 0, 1]"
      ]
     },
     "execution_count": 48,
     "metadata": {},
     "output_type": "execute_result"
    }
   ],
   "source": [
    "Path = []\n",
    "i = n\n",
    "while i > 0:\n",
    "    if C[i - 1] < C[i - 2]:\n",
    "        prev = i - 1\n",
    "    else:\n",
    "        prev = i - 2\n",
    "    Path.append(prev)\n",
    "    i = prev\n",
    "Path.append(0)\n",
    "Path = Path[::-1]\n",
    "\n",
    "Path"
   ]
  },
  {
   "cell_type": "code",
   "execution_count": null,
   "metadata": {},
   "outputs": [],
   "source": [
    "def F(n, N):\n",
    "    if (n > N):\n",
    "        return 1\n",
    "    else:\n",
    "        return F(n + 1, N) + F(n + 2, N) + F(n * 3, N)\n",
    "    \n",
    "print(F(1, 10))"
   ]
  },
  {
   "cell_type": "code",
   "execution_count": 71,
   "metadata": {},
   "outputs": [
    {
     "data": {
      "text/plain": [
       "162"
      ]
     },
     "execution_count": 71,
     "metadata": {},
     "output_type": "execute_result"
    }
   ],
   "source": [
    "price = [0] * 100\n",
    "n = 100\n",
    "\n",
    "cost = [0] * (n)\n",
    "cost[1] = price[1]\n",
    "for i in range(0, n):\n",
    "    price[i] = i + 1\n",
    "    if (i % 3 == 0):\n",
    "        cost[i] = min(cost[i - 1], cost[i - 2], cost [i // 3]) + price[i]\n",
    "    else:\n",
    "        cost[i] = min(cost[i - 1], cost[i - 2]) + price[i]\n",
    "\n",
    "cost[-1]"
   ]
  },
  {
   "cell_type": "code",
   "execution_count": 86,
   "metadata": {},
   "outputs": [
    {
     "data": {
      "image/png": "[encoded data removed]",
      "text/plain": [
       "<Figure size 640x480 with 1 Axes>"
      ]
     },
     "metadata": {},
     "output_type": "display_data"
    }
   ],
   "source": [
    "import matplotlib.pyplot as plt\n",
    "\n",
    "plt.plot(cost, color='g', marker='o', markersize=4)\n",
    "plt.xlabel('Номер точки')\n",
    "plt.ylabel('Стоимость')\n",
    "plt.title('Оптимальное решение')\n",
    "plt.savefig('optimal.png')\n",
    "plt.show()"
   ]
  }
 ],
 "metadata": {
  "kernelspec": {
   "display_name": "Python 3",
   "language": "python",
   "name": "python3"
  },
  "language_info": {
   "codemirror_mode": {
    "name": "ipython",
    "version": 3
   },
   "file_extension": ".py",
   "mimetype": "text/x-python",
   "name": "python",
   "nbconvert_exporter": "python",
   "pygments_lexer": "ipython3",
   "version": "3.11.5"
  },
  "orig_nbformat": 4
 },
 "nbformat": 4,
 "nbformat_minor": 2
}
